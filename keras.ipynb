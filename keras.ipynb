{
 "cells": [
  {
   "cell_type": "code",
   "execution_count": 2,
   "metadata": {},
   "outputs": [],
   "source": [
    "import os\n",
    "# os.environ['TF_CPP_MIN_LOG_LEVEL'] = '2'\n",
    "import tensorflow as tf\n",
    "from tensorflow import keras\n",
    "from keras import layers\n",
    "from keras.datasets import cifar10, mnist\n",
    "import matplotlib.pyplot as plt"
   ]
  },
  {
   "attachments": {},
   "cell_type": "markdown",
   "metadata": {},
   "source": [
    "# Keras functional api"
   ]
  },
  {
   "attachments": {},
   "cell_type": "markdown",
   "metadata": {},
   "source": [
    "## Сеть в столбик"
   ]
  },
  {
   "cell_type": "code",
   "execution_count": 3,
   "metadata": {},
   "outputs": [],
   "source": [
    "tf.random.set_seed(1)\n",
    "# Создаем код для нашей модели\n",
    "# входящий слой формат картинки 32 на 32 3х канального цвета\n",
    "input = keras.Input(shape=(32,32,3))\n",
    "# Conv2D - слой свертки по изображениям\n",
    "x = layers.Conv2D(32, 3, activation='relu')(input)\n",
    "x = layers.MaxPool2D(2, padding='same')(x)\n",
    "x = layers.Conv2D(64, 3, activation='relu')(x)\n",
    "x = layers.MaxPool2D(2, padding='same')(x)\n",
    "# слой для выравнивания выходных данных\n",
    "x = layers.Flatten()(x)\n",
    "# Dense - слой полносвязной сети\n",
    "x = layers.Dense(256, activation='relu')(x)\n",
    "# выкидывает какие-то значения на выходе\n",
    "x = layers.Dropout(0.5)(x)\n",
    "output = layers.Dense(10, activation='softmax')(x)\n",
    "# на основе кода сверху генерируем модель с помощью:\n",
    "model = keras.Model(inputs=input, outputs=output)"
   ]
  },
  {
   "attachments": {},
   "cell_type": "markdown",
   "metadata": {},
   "source": [
    "Показываем нашу модеь изнутри"
   ]
  },
  {
   "cell_type": "code",
   "execution_count": 4,
   "metadata": {},
   "outputs": [
    {
     "name": "stdout",
     "output_type": "stream",
     "text": [
      "Model: \"model\"\n",
      "_________________________________________________________________\n",
      " Layer (type)                Output Shape              Param #   \n",
      "=================================================================\n",
      " input_1 (InputLayer)        [(None, 32, 32, 3)]       0         \n",
      "                                                                 \n",
      " conv2d (Conv2D)             (None, 30, 30, 32)        896       \n",
      "                                                                 \n",
      " max_pooling2d (MaxPooling2D  (None, 15, 15, 32)       0         \n",
      " )                                                               \n",
      "                                                                 \n",
      " conv2d_1 (Conv2D)           (None, 13, 13, 64)        18496     \n",
      "                                                                 \n",
      " max_pooling2d_1 (MaxPooling  (None, 7, 7, 64)         0         \n",
      " 2D)                                                             \n",
      "                                                                 \n",
      " flatten (Flatten)           (None, 3136)              0         \n",
      "                                                                 \n",
      " dense (Dense)               (None, 256)               803072    \n",
      "                                                                 \n",
      " dropout (Dropout)           (None, 256)               0         \n",
      "                                                                 \n",
      " dense_1 (Dense)             (None, 10)                2570      \n",
      "                                                                 \n",
      "=================================================================\n",
      "Total params: 825,034\n",
      "Trainable params: 825,034\n",
      "Non-trainable params: 0\n",
      "_________________________________________________________________\n"
     ]
    }
   ],
   "source": [
    "model.summary()"
   ]
  },
  {
   "attachments": {},
   "cell_type": "markdown",
   "metadata": {},
   "source": [
    "## Dataset"
   ]
  },
  {
   "cell_type": "code",
   "execution_count": 6,
   "metadata": {},
   "outputs": [],
   "source": [
    "(x_train, y_train), (x_test, y_test) = cifar10.load_data()"
   ]
  },
  {
   "cell_type": "code",
   "execution_count": 8,
   "metadata": {},
   "outputs": [],
   "source": [
    "# Нормализуем наш датасет\n",
    "x_train = x_train /255\n",
    "x_test = x_test/255\n",
    "#  приводим к категориальному формату\n",
    "y_train = keras.utils.to_categorical(y_train, 10)\n",
    "y_test = keras.utils.to_categorical(y_test, 10)\n",
    "# Добавляем оптимизатор, функцию потерь и метрику качества в нашу модель\n",
    "model.compile(optimizer='adam', loss='categorical_crossentropy', metrics=['accuracy'])"
   ]
  },
  {
   "cell_type": "code",
   "execution_count": 9,
   "metadata": {},
   "outputs": [
    {
     "name": "stdout",
     "output_type": "stream",
     "text": [
      "Epoch 1/20\n",
      "625/625 [==============================] - 22s 34ms/step - loss: 1.5874 - accuracy: 0.4220 - val_loss: 1.2809 - val_accuracy: 0.5588\n",
      "Epoch 2/20\n",
      "625/625 [==============================] - 21s 33ms/step - loss: 1.2501 - accuracy: 0.5557 - val_loss: 1.0974 - val_accuracy: 0.6136\n",
      "Epoch 3/20\n",
      "625/625 [==============================] - 21s 34ms/step - loss: 1.1027 - accuracy: 0.6116 - val_loss: 1.0818 - val_accuracy: 0.6196\n",
      "Epoch 4/20\n",
      "625/625 [==============================] - 21s 34ms/step - loss: 0.9961 - accuracy: 0.6497 - val_loss: 0.9314 - val_accuracy: 0.6726\n",
      "Epoch 5/20\n",
      "625/625 [==============================] - 21s 34ms/step - loss: 0.9245 - accuracy: 0.6749 - val_loss: 0.8939 - val_accuracy: 0.6881\n",
      "Epoch 6/20\n",
      "625/625 [==============================] - 20s 32ms/step - loss: 0.8675 - accuracy: 0.6961 - val_loss: 0.9138 - val_accuracy: 0.6864\n",
      "Epoch 7/20\n",
      "625/625 [==============================] - 20s 32ms/step - loss: 0.8088 - accuracy: 0.7150 - val_loss: 0.8339 - val_accuracy: 0.7113\n",
      "Epoch 8/20\n",
      "625/625 [==============================] - 20s 33ms/step - loss: 0.7535 - accuracy: 0.7342 - val_loss: 0.8988 - val_accuracy: 0.6961\n",
      "Epoch 9/20\n",
      "625/625 [==============================] - 21s 33ms/step - loss: 0.7031 - accuracy: 0.7486 - val_loss: 0.8274 - val_accuracy: 0.7189\n",
      "Epoch 10/20\n",
      "625/625 [==============================] - 21s 34ms/step - loss: 0.6592 - accuracy: 0.7642 - val_loss: 0.8210 - val_accuracy: 0.7180\n",
      "Epoch 11/20\n",
      "625/625 [==============================] - 21s 34ms/step - loss: 0.6205 - accuracy: 0.7791 - val_loss: 0.8187 - val_accuracy: 0.7272\n",
      "Epoch 12/20\n",
      "625/625 [==============================] - 21s 34ms/step - loss: 0.5832 - accuracy: 0.7930 - val_loss: 0.8329 - val_accuracy: 0.7253\n",
      "Epoch 13/20\n",
      "625/625 [==============================] - 20s 32ms/step - loss: 0.5459 - accuracy: 0.8053 - val_loss: 0.8705 - val_accuracy: 0.7170\n",
      "Epoch 14/20\n",
      "625/625 [==============================] - 20s 32ms/step - loss: 0.5093 - accuracy: 0.8155 - val_loss: 0.8857 - val_accuracy: 0.7147\n",
      "Epoch 15/20\n",
      "625/625 [==============================] - 20s 33ms/step - loss: 0.4834 - accuracy: 0.8256 - val_loss: 0.8662 - val_accuracy: 0.7245\n",
      "Epoch 16/20\n",
      "625/625 [==============================] - 21s 33ms/step - loss: 0.4522 - accuracy: 0.8367 - val_loss: 0.8616 - val_accuracy: 0.7269\n",
      "Epoch 17/20\n",
      "625/625 [==============================] - 20s 32ms/step - loss: 0.4212 - accuracy: 0.8458 - val_loss: 0.9284 - val_accuracy: 0.7224\n",
      "Epoch 18/20\n",
      "625/625 [==============================] - 22s 35ms/step - loss: 0.4006 - accuracy: 0.8552 - val_loss: 0.9461 - val_accuracy: 0.7171\n",
      "Epoch 19/20\n",
      "625/625 [==============================] - 21s 33ms/step - loss: 0.3786 - accuracy: 0.8610 - val_loss: 0.9428 - val_accuracy: 0.7295\n",
      "Epoch 20/20\n",
      "625/625 [==============================] - 21s 33ms/step - loss: 0.3614 - accuracy: 0.8689 - val_loss: 0.9553 - val_accuracy: 0.7272\n"
     ]
    },
    {
     "data": {
      "text/plain": [
       "<keras.callbacks.History at 0x1d8df168b50>"
      ]
     },
     "execution_count": 9,
     "metadata": {},
     "output_type": "execute_result"
    }
   ],
   "source": [
    "# Обучаем модель\n",
    "model.fit(x_train, y_train, batch_size=64, epochs=20, validation_split=0.2)"
   ]
  },
  {
   "cell_type": "code",
   "execution_count": 10,
   "metadata": {},
   "outputs": [
    {
     "name": "stdout",
     "output_type": "stream",
     "text": [
      "313/313 [==============================] - 2s 6ms/step - loss: 0.9680 - accuracy: 0.7241\n",
      "[0.9679670929908752, 0.7240999937057495]\n"
     ]
    }
   ],
   "source": [
    "# Вычисляем точность нашей модели\n",
    "print(model.evaluate(x_test, y_test))"
   ]
  },
  {
   "attachments": {},
   "cell_type": "markdown",
   "metadata": {},
   "source": [
    "## Сеть с помощью класса"
   ]
  },
  {
   "cell_type": "code",
   "execution_count": 13,
   "metadata": {},
   "outputs": [],
   "source": [
    "# сделали класс сверточного слоя\n",
    "class TfConv2D(tf.Module):\n",
    "    def __init__(self, kernel=(3,3), channels=1, strides=(2,2), padding='SAME', activation='relu'):\n",
    "        super().__init__()\n",
    "        self.kernel = kernel        # Размер ядра\n",
    "        self.channels = channels    # Число выходных каналов\n",
    "        self.strides = strides      # Смещение в плоскости канала\n",
    "        self.padding = padding      # режим формирования выходных каналов\n",
    "        self.activate = activation  # функция активации\n",
    "        self.fl_init=False\n",
    "\n",
    "    def __call__(self, x):\n",
    "        if not self.fl_init:\n",
    "            #  формируем весовые кофициенты под формат\n",
    "            # [kernel_x, kernel_y, input_channels, output_channels]\n",
    "            # truncated_normal - нормальные случайные величины, со средне квадратическим отклонением - stddev=0.1\n",
    "            self.w = tf.random.truncated_normal((*self.kernel, x.shape[-1], self.channels), stddev=0.1, dtype=tf.double)\n",
    "            self.b = tf.zeros([self.channels], dtype=tf.double)\n",
    "\n",
    "            self.w = tf.Variable(self.w)\n",
    "            self.b = tf.Variable(self.b)\n",
    "\n",
    "            self.fl_init = True\n",
    "        y = tf.nn.conv2d(x, self.w, strides=(1, *self.strides, 1), padding=self.padding)+self.b\n",
    "\n",
    "        if self.activate == 'relu':\n",
    "            return tf.nn.relu(y)\n",
    "        elif self.activate == 'softmax':\n",
    "            return tf.nn.softmax(y)\n",
    "        \n",
    "        return y"
   ]
  },
  {
   "cell_type": "code",
   "execution_count": 15,
   "metadata": {},
   "outputs": [
    {
     "name": "stdout",
     "output_type": "stream",
     "text": [
      "(1, 16, 16, 32)\n",
      "(1, 8, 8, 32)\n"
     ]
    }
   ],
   "source": [
    "layer1 = TfConv2D((3, 3), 32)\n",
    "y = layer1(tf.expand_dims(x_test[0], axis=0))\n",
    "print(y.shape)\n",
    "y = tf.nn.max_pool2d(y, ksize=(1,2,2,1), strides=(1,2,2,1), padding=\"SAME\")\n",
    "print(y.shape)"
   ]
  },
  {
   "attachments": {},
   "cell_type": "markdown",
   "metadata": {},
   "source": [
    "## Модель автоинкодера"
   ]
  },
  {
   "cell_type": "code",
   "execution_count": 17,
   "metadata": {},
   "outputs": [],
   "source": [
    "enc_input = layers.Input(shape=(28,28,1))\n",
    "# Conv2D - слой свертки по изображениям\n",
    "x = layers.Conv2D(32, 3, activation='relu')(enc_input)\n",
    "x = layers.MaxPool2D(2, padding='same')(x)\n",
    "x = layers.Conv2D(64, 3, activation='relu')(x)\n",
    "x = layers.MaxPool2D(2, padding='same')(x)\n",
    "# слой для выравнивания выходных данных\n",
    "x = layers.Flatten()(x)\n",
    "enc_output = layers.Dense(8, activation='linear')(x)\n",
    "encoder = keras.Model(enc_input, enc_output, name=\"encoder\")"
   ]
  },
  {
   "cell_type": "code",
   "execution_count": 18,
   "metadata": {},
   "outputs": [],
   "source": [
    "dec_input = keras.Input(shape=(8,), name='encoded_img')\n",
    "x = layers.Dense(7*7*8, activation='relu')(dec_input)\n",
    "x = keras.layers.Reshape((7, 7, 8))(x)\n",
    "x = layers.Conv2DTranspose(64, 5, strides=(2,2), activation='relu', padding='same')(x)\n",
    "x = keras.layers.BatchNormalization()(x)\n",
    "x = layers.Conv2DTranspose(32, 5, strides=(2,2), activation=\"linear\", padding='same')(x)\n",
    "x = keras.layers.BatchNormalization()(x)\n",
    "dec_output = layers.Conv2DTranspose(1, 3, activation='sigmoid', padding='same')(x)\n",
    "decoder = keras.Model(dec_input, dec_output, name=\"decoder\")"
   ]
  },
  {
   "cell_type": "code",
   "execution_count": 19,
   "metadata": {},
   "outputs": [],
   "source": [
    "autoencoder_input = keras.Input(shape=(28, 28, 1), name='img')\n",
    "x = encoder(autoencoder_input)\n",
    "autoencoder_output = decoder(x)\n",
    "\n",
    "autoencoder = keras.Model(autoencoder_input, autoencoder_output, name='autoencoder')"
   ]
  },
  {
   "cell_type": "code",
   "execution_count": 21,
   "metadata": {},
   "outputs": [
    {
     "name": "stdout",
     "output_type": "stream",
     "text": [
      "Downloading data from https://storage.googleapis.com/tensorflow/tf-keras-datasets/mnist.npz\n",
      "11490434/11490434 [==============================] - 2s 0us/step\n"
     ]
    }
   ],
   "source": [
    "(x_train, y_train), (x_test, y_test) = mnist.load_data()\n",
    "# Нормализуем наш датасет\n",
    "x_train = x_train.astype('float32') /255.0\n",
    "x_test = x_test.astype('float32')/255.0\n",
    "#  приводим к категориальному формату\n",
    "y_train = keras.utils.to_categorical(y_train, 10)\n",
    "y_test = keras.utils.to_categorical(y_test, 10)"
   ]
  },
  {
   "cell_type": "code",
   "execution_count": 22,
   "metadata": {},
   "outputs": [],
   "source": [
    "autoencoder.compile(optimizer='adam', loss='mean_squared_error')"
   ]
  },
  {
   "cell_type": "code",
   "execution_count": 23,
   "metadata": {},
   "outputs": [
    {
     "name": "stdout",
     "output_type": "stream",
     "text": [
      "1875/1875 [==============================] - 82s 43ms/step - loss: 0.0300\n"
     ]
    },
    {
     "data": {
      "text/plain": [
       "<keras.callbacks.History at 0x1d8ea4bc4f0>"
      ]
     },
     "execution_count": 23,
     "metadata": {},
     "output_type": "execute_result"
    }
   ],
   "source": [
    "autoencoder.fit(x_train, x_train, batch_size=32, epochs=1)"
   ]
  },
  {
   "cell_type": "code",
   "execution_count": 24,
   "metadata": {},
   "outputs": [
    {
     "name": "stdout",
     "output_type": "stream",
     "text": [
      "1/1 [==============================] - 0s 128ms/step\n",
      "1/1 [==============================] - 0s 146ms/step\n"
     ]
    }
   ],
   "source": [
    "h = encoder.predict(tf.expand_dims(x_test[0], axis=0))\n",
    "img = decoder.predict(h)"
   ]
  },
  {
   "cell_type": "code",
   "execution_count": 25,
   "metadata": {},
   "outputs": [
    {
     "data": {
      "image/png": "[encoded data removed]",
      "text/plain": [
       "<Figure size 640x480 with 2 Axes>"
      ]
     },
     "metadata": {},
     "output_type": "display_data"
    }
   ],
   "source": [
    "plt.subplot(121)\n",
    "plt.imshow(x_test[0], cmap='gray')\n",
    "plt.subplot(122)\n",
    "plt.imshow(img.squeeze(), cmap='gray')\n",
    "plt.show()"
   ]
  },
  {
   "attachments": {},
   "cell_type": "markdown",
   "metadata": {},
   "source": [
    "# ResNet by hands"
   ]
  },
  {
   "cell_type": "code",
   "execution_count": 2,
   "metadata": {},
   "outputs": [],
   "source": [
    "tf.random.set_seed(1)\n",
    "(x_train, y_train), (x_test, y_test) = cifar10.load_data()\n",
    "x_train = x_train /255\n",
    "x_test = x_test/255\n",
    "y_train = keras.utils.to_categorical(y_train, 10)\n",
    "y_test = keras.utils.to_categorical(y_test, 10)"
   ]
  },
  {
   "cell_type": "code",
   "execution_count": 5,
   "metadata": {},
   "outputs": [],
   "source": [
    "inputs = keras.Input(shape=(32, 32, 3), name='img')\n",
    "x = layers.Conv2D(32, 3, activation='relu')(inputs)\n",
    "x = layers.Conv2D(64, 3, activation='relu')(x)\n",
    "block_1_output = layers.MaxPooling2D(3)(x)\n",
    "x = layers.Conv2D(64, 3, activation='relu', padding='same')(block_1_output)\n",
    "x = layers.Conv2D(64, 3, activation='relu', padding='same')(x)\n",
    "block_2_output = layers.add([x, block_1_output])\n",
    "x = layers.Conv2D(64, 3, activation='relu', padding='same')(block_2_output)\n",
    "x = layers.Conv2D(64, 3, activation='relu', padding='same')(x)\n",
    "block_3_output = layers.add([x, block_2_output])\n",
    "x = layers.Conv2D(64, 3, activation='relu')(block_3_output)\n",
    "x = layers.GlobalAveragePooling2D()(x)\n",
    "x = layers.Dense(256, activation='relu')(x)\n",
    "x = layers.Dropout(0.5)(x)\n",
    "outputs = layers.Dense(10, activation='softmax')(x)\n",
    "\n",
    "model = keras.Model(inputs, outputs, name='toy_resnet')\n",
    "model.compile(optimizer='adam', loss='categorical_crossentropy', metrics=['accuracy'])"
   ]
  },
  {
   "cell_type": "code",
   "execution_count": 6,
   "metadata": {},
   "outputs": [
    {
     "name": "stdout",
     "output_type": "stream",
     "text": [
      "Epoch 1/15\n",
      "625/625 [==============================] - 62s 96ms/step - loss: 1.8198 - accuracy: 0.2907 - val_loss: 1.5030 - val_accuracy: 0.4366\n",
      "Epoch 2/15\n",
      "625/625 [==============================] - 59s 94ms/step - loss: 1.3801 - accuracy: 0.4895 - val_loss: 1.2164 - val_accuracy: 0.5520\n",
      "Epoch 3/15\n",
      "625/625 [==============================] - 58s 92ms/step - loss: 1.1343 - accuracy: 0.5881 - val_loss: 1.0367 - val_accuracy: 0.6291\n",
      "Epoch 4/15\n",
      "625/625 [==============================] - 58s 93ms/step - loss: 0.9664 - accuracy: 0.6516 - val_loss: 0.9046 - val_accuracy: 0.6817\n",
      "Epoch 5/15\n",
      "625/625 [==============================] - 57s 91ms/step - loss: 0.8618 - accuracy: 0.6914 - val_loss: 0.8476 - val_accuracy: 0.6980\n",
      "Epoch 6/15\n",
      "625/625 [==============================] - 56s 90ms/step - loss: 0.7821 - accuracy: 0.7220 - val_loss: 0.8529 - val_accuracy: 0.6989\n",
      "Epoch 7/15\n",
      "625/625 [==============================] - 58s 93ms/step - loss: 0.7145 - accuracy: 0.7498 - val_loss: 0.7377 - val_accuracy: 0.7392\n",
      "Epoch 8/15\n",
      "625/625 [==============================] - 60s 96ms/step - loss: 0.6612 - accuracy: 0.7707 - val_loss: 0.7104 - val_accuracy: 0.7503\n",
      "Epoch 9/15\n",
      "625/625 [==============================] - 59s 95ms/step - loss: 0.6036 - accuracy: 0.7896 - val_loss: 0.6844 - val_accuracy: 0.7686\n",
      "Epoch 10/15\n",
      "625/625 [==============================] - 56s 90ms/step - loss: 0.5577 - accuracy: 0.8066 - val_loss: 0.6897 - val_accuracy: 0.7663\n",
      "Epoch 11/15\n",
      "625/625 [==============================] - 56s 90ms/step - loss: 0.5171 - accuracy: 0.8219 - val_loss: 0.6557 - val_accuracy: 0.7777\n",
      "Epoch 12/15\n",
      "625/625 [==============================] - 61s 97ms/step - loss: 0.4834 - accuracy: 0.8323 - val_loss: 0.6655 - val_accuracy: 0.7803\n",
      "Epoch 13/15\n",
      "625/625 [==============================] - 59s 94ms/step - loss: 0.4411 - accuracy: 0.8477 - val_loss: 0.6870 - val_accuracy: 0.7775\n",
      "Epoch 14/15\n",
      "625/625 [==============================] - 61s 98ms/step - loss: 0.4095 - accuracy: 0.8591 - val_loss: 0.6899 - val_accuracy: 0.7791\n",
      "Epoch 15/15\n",
      "625/625 [==============================] - 62s 99ms/step - loss: 0.3801 - accuracy: 0.8673 - val_loss: 0.7091 - val_accuracy: 0.7780\n"
     ]
    },
    {
     "data": {
      "text/plain": [
       "<keras.callbacks.History at 0x1f41d6581c0>"
      ]
     },
     "execution_count": 6,
     "metadata": {},
     "output_type": "execute_result"
    }
   ],
   "source": [
    "model.fit(x_train, y_train, batch_size=64, epochs=15, validation_split=0.2)"
   ]
  },
  {
   "cell_type": "code",
   "execution_count": 8,
   "metadata": {},
   "outputs": [
    {
     "name": "stdout",
     "output_type": "stream",
     "text": [
      "313/313 [==============================] - 4s 12ms/step - loss: 0.7336 - accuracy: 0.7706\n",
      "[0.7336087226867676, 0.7706000208854675]\n"
     ]
    }
   ],
   "source": [
    "print(model.evaluate(x_test, y_test))"
   ]
  },
  {
   "cell_type": "code",
   "execution_count": 7,
   "metadata": {},
   "outputs": [],
   "source": [
    "class CustomCallback(keras.callbacks.Callback):\n",
    "    def on_train_begin(self, logs):\n",
    "        self.per_batch_losses = []\n",
    "    \n",
    "    def on_batch_end(self, batch, logs):\n",
    "        self.per_batch_losses.append(logs.get('loss'))\n",
    "\n",
    "    def on_train_end(self, logs):\n",
    "        print(self.per_batch_losses[:5])\n",
    "callbacks = [\n",
    "    CustomCallback(),\n",
    "    # ранняя остановка чтобы избежать проблем\n",
    "    # keras.callbacks.EarlyStopping(monitor='loss', min_delta=0.01, patience=0.01, patience=2, verbose=1),\n",
    "    # чекпоинты модели - сохранение модели на разных этапах\n",
    "    # keras.callbacks.ModelCheckpoint(filepath=\"mymodel_{epoch}\", save_best_only=True, monitor='loss', verbose=1)\n",
    "\n",
    "]"
   ]
  },
  {
   "cell_type": "code",
   "execution_count": 9,
   "metadata": {},
   "outputs": [
    {
     "name": "stdout",
     "output_type": "stream",
     "text": [
      "Epoch 1/3\n",
      "1563/1563 [==============================] - 80s 50ms/step - loss: 0.5443 - accuracy: 0.8157\n",
      "Epoch 2/3\n",
      "1563/1563 [==============================] - 79s 50ms/step - loss: 0.4811 - accuracy: 0.8365\n",
      "Epoch 3/3\n",
      "1563/1563 [==============================] - 78s 50ms/step - loss: 0.4417 - accuracy: 0.8478\n",
      "[0.33254474401474, 0.27401456236839294, 0.2993761897087097, 0.3283223509788513, 0.3480733335018158]\n"
     ]
    },
    {
     "data": {
      "text/plain": [
       "<keras.callbacks.History at 0x1f41d6a6aa0>"
      ]
     },
     "execution_count": 9,
     "metadata": {},
     "output_type": "execute_result"
    }
   ],
   "source": [
    "model.fit(x_train, y_train, epochs=3, callbacks=callbacks)"
   ]
  },
  {
   "cell_type": "code",
   "execution_count": null,
   "metadata": {},
   "outputs": [],
   "source": []
  }
 ],
 "metadata": {
  "kernelspec": {
   "display_name": ".venv",
   "language": "python",
   "name": "python3"
  },
  "language_info": {
   "codemirror_mode": {
    "name": "ipython",
    "version": 3
   },
   "file_extension": ".py",
   "mimetype": "text/x-python",
   "name": "python",
   "nbconvert_exporter": "python",
   "pygments_lexer": "ipython3",
   "version": "3.10.9"
  },
  "orig_nbformat": 4
 },
 "nbformat": 4,
 "nbformat_minor": 2
}
