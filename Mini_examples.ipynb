{
 "cells": [
  {
   "cell_type": "code",
   "execution_count": 2,
   "metadata": {},
   "outputs": [],
   "source": [
    "import numpy as np\n",
    "import matplotlib.pyplot as plt"
   ]
  },
  {
   "attachments": {},
   "cell_type": "markdown",
   "metadata": {},
   "source": [
    "# Sympathy"
   ]
  },
  {
   "cell_type": "code",
   "execution_count": 2,
   "metadata": {},
   "outputs": [
    {
     "name": "stdout",
     "output_type": "stream",
     "text": [
      "Hidenn layer neuron sum:  [0.3 1.4]\n",
      "Exits values from hiden neuron:  [0 1]\n",
      "Exit values NN:  1\n",
      "I'l like you\n"
     ]
    }
   ],
   "source": [
    "def act(x):\n",
    "    return 0 if x<0.5 else 1\n",
    "\n",
    "def go(house, rock, attractive):\n",
    "    x = np.array([house, rock, attractive])\n",
    "    w11 = [0.3, 0.3, 0]\n",
    "    w12 = [0.4, -0.5, 1]\n",
    "    weight1 = np.array([w11, w12])\n",
    "    weight2 = np.array([-1, 1])\n",
    "\n",
    "    sum_hidden = np.dot(weight1, x)\n",
    "    print(\"Hidenn layer neuron sum: \", str(sum_hidden))\n",
    "\n",
    "    out_hidden = np.array([act(x) for x in sum_hidden])\n",
    "    print(\"Exits values from hiden neuron: \", str(out_hidden))\n",
    "\n",
    "    sum_end = np.dot(weight2, out_hidden)\n",
    "    y = act(sum_end)\n",
    "    print(\"Exit values NN: \", str(y))\n",
    "    return y\n",
    "\n",
    "house = 1\n",
    "rock = 0\n",
    "attr = 1\n",
    "res = go(house, rock, attr)\n",
    "if res == 1:\n",
    "    print(\"I'l like you\")\n",
    "else:\n",
    "    print(\"I'l call\")"
   ]
  },
  {
   "attachments": {},
   "cell_type": "markdown",
   "metadata": {},
   "source": [
    "# simple classification"
   ]
  },
  {
   "cell_type": "code",
   "execution_count": 3,
   "metadata": {},
   "outputs": [
    {
     "name": "stdout",
     "output_type": "stream",
     "text": [
      "Class C1\n",
      "Class C1\n",
      "Class C1\n",
      "Class C1\n",
      "Class C1\n"
     ]
    },
    {
     "data": {
      "image/png": "[encoded data removed]",
      "text/plain": [
       "<Figure size 640x480 with 1 Axes>"
      ]
     },
     "metadata": {},
     "output_type": "display_data"
    }
   ],
   "source": [
    "N = 5\n",
    "x1 = np.random.random(N)\n",
    "x2 = x1 + [np.random.randint(10)/10 for i in range(N)]\n",
    "C1 = [x1, x2]\n",
    "\n",
    "x1 = np.random.random(N)\n",
    "x2 = x1 - [np.random.randint(10)/10 for i in range(N)] - 0.1\n",
    "C2 = [x1, x2]\n",
    "\n",
    "f = [0, 1]\n",
    "\n",
    "w = np.array([-0.3, 0.3])\n",
    "for i in range(N):\n",
    "    x = np.array([C1[0][i], C1[1][i]])\n",
    "    y = np.dot(w, x)\n",
    "    if y >= 0:\n",
    "        print(\"Class C1\")\n",
    "    else:\n",
    "        print(\"Class C2\")\n",
    "\n",
    "plt.scatter(C1[0][:], C1[1][:], s=10, c='red')\n",
    "plt.scatter(C2[0][:], C2[1][:], s=10, c='blue')\n",
    "plt.plot(f)\n",
    "plt.grid(True)\n",
    "plt.show()"
   ]
  },
  {
   "attachments": {},
   "cell_type": "markdown",
   "metadata": {},
   "source": [
    "# back propogation"
   ]
  },
  {
   "cell_type": "code",
   "execution_count": 3,
   "metadata": {},
   "outputs": [
    {
     "name": "stdout",
     "output_type": "stream",
     "text": [
      "0.061027487342898645 => -1\n",
      "0.9282008832349158 => 1\n",
      "-0.8703417666195992 => -1\n",
      "0.8719862227129065 => 1\n",
      "-0.8719862227129064 => -1\n",
      "0.8703417666195992 => 1\n",
      "-0.9282008832349158 => -1\n",
      "-0.061027487342898645 => -1\n"
     ]
    }
   ],
   "source": [
    "def f(x):\n",
    "    # функция для вычисления гиперболического тангенса\n",
    "    return 2/(1 + np.exp(-x)) - 1\n",
    "\n",
    "def df(x):\n",
    "    # функция для вычисления производной\n",
    "    return 0.5*(1+x)*(1-x)\n",
    "\n",
    "# Инициализированные веса для нейронной сети\n",
    "W1 = np.array(([-0.2, 0.3, -0.4], [0.1, -0.3, -0.4]))\n",
    "W2 = np.array([0.2, 0.3])\n",
    "\n",
    "def go_forward(inp):\n",
    "    sum = np.dot(W1, inp)\n",
    "    out = np.array([f(x) for x in sum])\n",
    "\n",
    "    sum = np.dot(W2, out)\n",
    "    y = f(sum)\n",
    "    return (y, out)\n",
    "\n",
    "def train(epoch):\n",
    "    global W2, W1\n",
    "    lmd = 0.01 # learning step\n",
    "    N = 10000 # number of iterations during learning\n",
    "    count = len(epoch)\n",
    "    for k in range(N):\n",
    "        x = epoch[np.random.randint(0, count)] # input signal random from learning data\n",
    "        y, out = go_forward(x[0:3]) # прямой проход по НС и вычисление выходных значений нейрона\n",
    "        e = y - x[-1]   # Ошибка\n",
    "        delta = e*df(y) # local gradient\n",
    "        W2[0] = W2[0] - lmd * delta * out[0]    # корректировка веса первой связи\n",
    "        W2[1] = W2[1] - lmd * delta * out[1]    # корректировка веса второй связи\n",
    "\n",
    "        delta2 = W2*delta*df(out) # вектор из 2-х величин локальных градиентов\n",
    "\n",
    "        # корректировка связей первого слоя\n",
    "        W1[0, :] = W1[0, :] - np.array(x[0:3]) * delta2[0] * lmd\n",
    "        W1[1, :] = W1[1, :] - np.array(x[0:3]) * delta2[1] * lmd\n",
    "\n",
    "# обучающая выборка\n",
    "epoch = [(-1,-1,-1,-1),\n",
    "         (-1,-1,1,1),\n",
    "         (-1,1,-1,-1),\n",
    "         (-1,1,1,1),\n",
    "         (1,-1,-1,-1),\n",
    "         (1,-1, 1, 1),\n",
    "         (1, 1, -1, -1),\n",
    "         (1, 1, 1, -1)] \n",
    "\n",
    "train(epoch) # запуск обучения сети\n",
    "# проверка полученных результатов\n",
    "for x in epoch:\n",
    "    y, out = go_forward(x[0:3])\n",
    "    print(f\"{y} => {x[-1]}\")"
   ]
  }
 ],
 "metadata": {
  "kernelspec": {
   "display_name": ".venv",
   "language": "python",
   "name": "python3"
  },
  "language_info": {
   "codemirror_mode": {
    "name": "ipython",
    "version": 3
   },
   "file_extension": ".py",
   "mimetype": "text/x-python",
   "name": "python",
   "nbconvert_exporter": "python",
   "pygments_lexer": "ipython3",
   "version": "3.10.9"
  },
  "orig_nbformat": 4
 },
 "nbformat": 4,
 "nbformat_minor": 2
}
