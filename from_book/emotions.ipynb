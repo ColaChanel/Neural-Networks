{
 "cells": [
  {
   "attachments": {},
   "cell_type": "markdown",
   "metadata": {},
   "source": [
    "## Прямое кодирование слов и символов"
   ]
  },
  {
   "cell_type": "code",
   "execution_count": 1,
   "metadata": {},
   "outputs": [],
   "source": [
    "import numpy as np\n",
    "samples = ['The cat sat on the mat.', 'The dog ate my homework.'] \n",
    "token_index = {} #Создание индекса всех токенов в данных\n",
    "for sample in samples:\n",
    " for word in sample.split(): \n",
    "    if word not in token_index:\n",
    "        token_index[word] = len(token_index) + 1 \n",
    "max_length = 10\n",
    "results = np.zeros(shape=(len(samples), max_length,\n",
    "                    max(token_index.values()) + 1)) \n",
    "for i, sample in enumerate(samples):\n",
    "    for j, word in list(enumerate(sample.split()))[:max_length]:\n",
    "        index = token_index.get(word)\n",
    "        results[i, j, index] = 1"
   ]
  },
  {
   "cell_type": "code",
   "execution_count": 7,
   "metadata": {},
   "outputs": [],
   "source": [
    "# import string\n",
    "# samples = ['The cat sat on the mat.', 'The dog ate my homework.']\n",
    "# characters = string.printable #Все отображаемые символы ASCII\n",
    "# token_index = dict(zip(characters, range(1, len(characters) + 1)))\n",
    "# max_length = 50\n",
    "# results = np.zeros((len(samples), max_length, max(token_index.keys()) + 1))\n",
    "# for i, sample in enumerate(samples):\n",
    "#     for j, character in enumerate(sample):\n",
    "#         index = token_index.get(character)\n",
    "#         results[i, j, index] = 1"
   ]
  },
  {
   "cell_type": "code",
   "execution_count": 6,
   "metadata": {},
   "outputs": [
    {
     "name": "stdout",
     "output_type": "stream",
     "text": [
      "Found 9 unique tokens.\n"
     ]
    }
   ],
   "source": [
    "from keras.preprocessing.text import Tokenizer\n",
    "samples = ['The cat sat on the mat.', 'The dog ate my homework.']\n",
    "tokenizer = Tokenizer(num_words=1000) \n",
    "tokenizer.fit_on_texts(samples) #Создание индекса всех слов\n",
    "sequences = tokenizer.texts_to_sequences(samples) \n",
    "one_hot_results = tokenizer.texts_to_matrix(samples, mode='binary') \n",
    "word_index = tokenizer.word_index \n",
    "print('Found %s unique tokens.' % len(word_index))\n"
   ]
  },
  {
   "cell_type": "code",
   "execution_count": 8,
   "metadata": {},
   "outputs": [],
   "source": [
    "samples = ['The cat sat on the mat.', 'The dog ate my homework.']\n",
    "dimensionality = 1000\n",
    "max_length = 10\n",
    "results = np.zeros((len(samples), max_length, dimensionality))\n",
    "for i, sample in enumerate(samples):\n",
    " for j, word in list(enumerate(sample.split()))[:max_length]:\n",
    "    index = abs(hash(word)) % dimensionality\n",
    "    results[i, j, index] = 1"
   ]
  },
  {
   "cell_type": "code",
   "execution_count": 9,
   "metadata": {},
   "outputs": [],
   "source": [
    "from keras.layers import Embedding\n",
    "embedding_layer = Embedding(1000, 64)"
   ]
  },
  {
   "cell_type": "code",
   "execution_count": 13,
   "metadata": {},
   "outputs": [],
   "source": [
    "from keras.datasets import imdb\n",
    "from keras.utils import pad_sequences\n",
    "max_features = 10000 \n",
    "maxlen = 20\n",
    "(x_train, y_train), (x_test, y_test) = imdb.load_data(\n",
    " num_words=max_features) #Загрузка данных как списков целых чисел\n",
    "x_train = pad_sequences(x_train, maxlen=maxlen)\n",
    "x_test = pad_sequences(x_test, maxlen=maxlen)"
   ]
  },
  {
   "cell_type": "code",
   "execution_count": 14,
   "metadata": {},
   "outputs": [
    {
     "name": "stdout",
     "output_type": "stream",
     "text": [
      "Model: \"sequential\"\n",
      "_________________________________________________________________\n",
      " Layer (type)                Output Shape              Param #   \n",
      "=================================================================\n",
      " embedding_1 (Embedding)     (None, 20, 8)             80000     \n",
      "                                                                 \n",
      " flatten (Flatten)           (None, 160)               0         \n",
      "                                                                 \n",
      " dense (Dense)               (None, 1)                 161       \n",
      "                                                                 \n",
      "=================================================================\n",
      "Total params: 80,161\n",
      "Trainable params: 80,161\n",
      "Non-trainable params: 0\n",
      "_________________________________________________________________\n",
      "Epoch 1/10\n",
      "625/625 [==============================] - 2s 2ms/step - loss: 0.6674 - acc: 0.6238 - val_loss: 0.6161 - val_acc: 0.6990\n",
      "Epoch 2/10\n",
      "625/625 [==============================] - 1s 2ms/step - loss: 0.5412 - acc: 0.7485 - val_loss: 0.5258 - val_acc: 0.7342\n",
      "Epoch 3/10\n",
      "625/625 [==============================] - 1s 2ms/step - loss: 0.4638 - acc: 0.7837 - val_loss: 0.5014 - val_acc: 0.7468\n",
      "Epoch 4/10\n",
      "625/625 [==============================] - 1s 2ms/step - loss: 0.4255 - acc: 0.8052 - val_loss: 0.4944 - val_acc: 0.7542\n",
      "Epoch 5/10\n",
      "625/625 [==============================] - 1s 2ms/step - loss: 0.3994 - acc: 0.8189 - val_loss: 0.4946 - val_acc: 0.7570\n",
      "Epoch 6/10\n",
      "625/625 [==============================] - 1s 2ms/step - loss: 0.3784 - acc: 0.8316 - val_loss: 0.4971 - val_acc: 0.7508\n",
      "Epoch 7/10\n",
      "625/625 [==============================] - 1s 2ms/step - loss: 0.3598 - acc: 0.8434 - val_loss: 0.5012 - val_acc: 0.7562\n",
      "Epoch 8/10\n",
      "625/625 [==============================] - 1s 2ms/step - loss: 0.3423 - acc: 0.8526 - val_loss: 0.5095 - val_acc: 0.7548\n",
      "Epoch 9/10\n",
      "625/625 [==============================] - 1s 2ms/step - loss: 0.3259 - acc: 0.8633 - val_loss: 0.5149 - val_acc: 0.7578\n",
      "Epoch 10/10\n",
      "625/625 [==============================] - 1s 2ms/step - loss: 0.3102 - acc: 0.8715 - val_loss: 0.5227 - val_acc: 0.7564\n"
     ]
    }
   ],
   "source": [
    "from keras.models import Sequential\n",
    "from keras.layers import Flatten, Dense, Embedding\n",
    "model = Sequential()\n",
    "model.add(Embedding(10000, 8, input_length=maxlen))\n",
    "model.add(Flatten()) \n",
    "model.add(Dense(1, activation='sigmoid')) \n",
    "model.compile(optimizer='rmsprop', loss='binary_crossentropy', \n",
    "metrics=['acc'])\n",
    "model.summary()\n",
    "history = model.fit(x_train, y_train,\n",
    " epochs=10,\n",
    " batch_size=32,\n",
    " validation_split=0.2)"
   ]
  },
  {
   "cell_type": "code",
   "execution_count": 17,
   "metadata": {},
   "outputs": [
    {
     "name": "stdout",
     "output_type": "stream",
     "text": [
      "Found 400000 word vectors.\n"
     ]
    }
   ],
   "source": [
    "import os\n",
    "glove_dir = 'C:/Users/igorv/OneDrive/Documents/GitHub/NeuralNetworks/from_book/data/glove.6B'\n",
    "embeddings_index = {}\n",
    "filename = os.path.join(glove_dir, 'glove.6B.100d.txt')\n",
    "with open(filename, 'rb') as f:\n",
    "    for line in f:\n",
    "        values = line.split()\n",
    "        word = values[0]\n",
    "        coefs = np.asarray(values[1:], dtype='float32')\n",
    "        embeddings_index[word] = coefs\n",
    "print('Found %s word vectors.' % len(embeddings_index))"
   ]
  },
  {
   "cell_type": "code",
   "execution_count": 18,
   "metadata": {},
   "outputs": [],
   "source": [
    "embedding_dim = 100\n",
    "max_words = 10000\n",
    "embedding_matrix = np.zeros((max_words, embedding_dim))\n",
    "for word, i in word_index.items():\n",
    "    if i < max_words:\n",
    "        embedding_vector = embeddings_index.get(word)\n",
    "        if embedding_vector is not None:\n",
    "            embedding_matrix[i] = embedding_vector"
   ]
  },
  {
   "cell_type": "code",
   "execution_count": 19,
   "metadata": {},
   "outputs": [
    {
     "name": "stdout",
     "output_type": "stream",
     "text": [
      "Model: \"sequential_1\"\n",
      "_________________________________________________________________\n",
      " Layer (type)                Output Shape              Param #   \n",
      "=================================================================\n",
      " embedding_2 (Embedding)     (None, 20, 100)           1000000   \n",
      "                                                                 \n",
      " flatten_1 (Flatten)         (None, 2000)              0         \n",
      "                                                                 \n",
      " dense_1 (Dense)             (None, 32)                64032     \n",
      "                                                                 \n",
      " dense_2 (Dense)             (None, 1)                 33        \n",
      "                                                                 \n",
      "=================================================================\n",
      "Total params: 1,064,065\n",
      "Trainable params: 1,064,065\n",
      "Non-trainable params: 0\n",
      "_________________________________________________________________\n"
     ]
    }
   ],
   "source": [
    "from keras.models import Sequential\n",
    "from keras.layers import Embedding, Flatten, Dense\n",
    "model = Sequential()\n",
    "model.add(Embedding(max_words, embedding_dim, input_length=maxlen))\n",
    "model.add(Flatten())\n",
    "model.add(Dense(32, activation='relu'))\n",
    "model.add(Dense(1, activation='sigmoid'))\n",
    "model.summary()"
   ]
  },
  {
   "cell_type": "code",
   "execution_count": 20,
   "metadata": {},
   "outputs": [],
   "source": [
    "model.layers[0].set_weights([embedding_matrix])\n",
    "model.layers[0].trainable = False"
   ]
  },
  {
   "cell_type": "code",
   "execution_count": 21,
   "metadata": {},
   "outputs": [
    {
     "name": "stdout",
     "output_type": "stream",
     "text": [
      "Epoch 1/10\n",
      "782/782 [==============================] - 4s 4ms/step - loss: 0.6932 - acc: 0.5006 - val_loss: 0.6931 - val_acc: 0.5000\n",
      "Epoch 2/10\n",
      "782/782 [==============================] - 3s 4ms/step - loss: 0.6932 - acc: 0.5039 - val_loss: 0.6932 - val_acc: 0.5000\n",
      "Epoch 3/10\n",
      "782/782 [==============================] - 3s 3ms/step - loss: 0.6932 - acc: 0.4978 - val_loss: 0.6931 - val_acc: 0.5000\n",
      "Epoch 4/10\n",
      "782/782 [==============================] - 3s 3ms/step - loss: 0.6932 - acc: 0.4995 - val_loss: 0.6932 - val_acc: 0.5000\n",
      "Epoch 5/10\n",
      "782/782 [==============================] - 3s 4ms/step - loss: 0.6932 - acc: 0.5010 - val_loss: 0.6932 - val_acc: 0.5000\n",
      "Epoch 6/10\n",
      "782/782 [==============================] - 3s 3ms/step - loss: 0.6932 - acc: 0.5002 - val_loss: 0.6931 - val_acc: 0.5000\n",
      "Epoch 7/10\n",
      "782/782 [==============================] - 3s 3ms/step - loss: 0.6932 - acc: 0.4990 - val_loss: 0.6932 - val_acc: 0.5000\n",
      "Epoch 8/10\n",
      "782/782 [==============================] - 3s 3ms/step - loss: 0.6932 - acc: 0.4962 - val_loss: 0.6931 - val_acc: 0.5000\n",
      "Epoch 9/10\n",
      "782/782 [==============================] - 3s 3ms/step - loss: 0.6932 - acc: 0.5002 - val_loss: 0.6932 - val_acc: 0.5000\n",
      "Epoch 10/10\n",
      "782/782 [==============================] - 3s 3ms/step - loss: 0.6932 - acc: 0.4991 - val_loss: 0.6931 - val_acc: 0.5000\n"
     ]
    }
   ],
   "source": [
    "x_val, y_val = x_test, y_test\n",
    "model.compile(optimizer='rmsprop',\n",
    " loss='binary_crossentropy',\n",
    " metrics=['acc'])\n",
    "history = model.fit(x_train, y_train,\n",
    " epochs=10,\n",
    " batch_size=32,\n",
    " validation_data=(x_val, y_val))\n",
    "model.save_weights('pre_trained_glove_model.h5')\n"
   ]
  },
  {
   "cell_type": "code",
   "execution_count": null,
   "metadata": {},
   "outputs": [],
   "source": [
    "# test_dir = os.path.join(imdb_dir, 'test')\n",
    "# labels = []\n",
    "# texts = []\n",
    "# for label_type in ['neg', 'pos']:\n",
    "#  dir_name = os.path.join(test_dir, label_type)\n",
    "#  for fname in sorted(os.listdir(dir_name)):\n",
    "#  if fname[-4:] == '.txt':\n",
    "#  f = open(os.path.join(dir_name, fname))\n",
    "#  texts.append(f.read())\n",
    "#  f.close()\n",
    "#  if label_type == 'neg':\n",
    "#  labels.append(0)\n",
    "#  else:\n",
    "#  labels.append(1)\n",
    "# sequences = tokenizer.texts_to_sequences(texts)\n",
    "# x_test = pad_sequences(sequences, maxlen=maxlen)\n",
    "# y_test = np.asarray(labels)"
   ]
  },
  {
   "cell_type": "code",
   "execution_count": 22,
   "metadata": {},
   "outputs": [
    {
     "name": "stdout",
     "output_type": "stream",
     "text": [
      "782/782 [==============================] - 1s 1ms/step - loss: 0.6931 - acc: 0.5000\n"
     ]
    },
    {
     "data": {
      "text/plain": [
       "[0.6931484937667847, 0.5]"
      ]
     },
     "execution_count": 22,
     "metadata": {},
     "output_type": "execute_result"
    }
   ],
   "source": [
    "model.load_weights('pre_trained_glove_model.h5')\n",
    "model.evaluate(x_test, y_test)"
   ]
  },
  {
   "cell_type": "code",
   "execution_count": 23,
   "metadata": {},
   "outputs": [],
   "source": [
    "import numpy as np\n",
    "timesteps = 100 #Число временных интервалов во входной последовательности\n",
    "input_features = 32 #Размерность пространства входных признаков\n",
    "output_features = 64 #Размерность пространства выходных признаков\n",
    "inputs = np.random.random((timesteps, input_features)) \n",
    "state_t = np.zeros((output_features,)) \n",
    "W = np.random.random((output_features, input_features)) \n",
    "U = np.random.random((output_features, output_features)) \n",
    "b = np.random.random((output_features,)) \n",
    "successive_outputs = []\n",
    "for input_t in inputs: #input_t — вектор с формой (входные_признаки,)\n",
    " output_t = np.tanh(np.dot(W, input_t) + np.dot(U, state_t) + b) \n",
    " successive_outputs.append(output_t) \n",
    " state_t = output_t \n",
    "final_output_sequence = np.concatenate(successive_outputs, axis=0)"
   ]
  },
  {
   "cell_type": "code",
   "execution_count": 24,
   "metadata": {},
   "outputs": [],
   "source": [
    "output_t = np.tanh(np.dot(W, input_t) + np.dot(U, state_t) + b)"
   ]
  },
  {
   "cell_type": "code",
   "execution_count": 25,
   "metadata": {},
   "outputs": [
    {
     "name": "stdout",
     "output_type": "stream",
     "text": [
      "Model: \"sequential_2\"\n",
      "_________________________________________________________________\n",
      " Layer (type)                Output Shape              Param #   \n",
      "=================================================================\n",
      " embedding_3 (Embedding)     (None, None, 32)          320000    \n",
      "                                                                 \n",
      " simple_rnn (SimpleRNN)      (None, 32)                2080      \n",
      "                                                                 \n",
      "=================================================================\n",
      "Total params: 322,080\n",
      "Trainable params: 322,080\n",
      "Non-trainable params: 0\n",
      "_________________________________________________________________\n"
     ]
    }
   ],
   "source": [
    "from keras.models import Sequential\n",
    "from keras.layers import Embedding, SimpleRNN\n",
    "model = Sequential()\n",
    "model.add(Embedding(10000, 32))\n",
    "model.add(SimpleRNN(32))\n",
    "model.summary()"
   ]
  },
  {
   "cell_type": "code",
   "execution_count": 26,
   "metadata": {},
   "outputs": [
    {
     "name": "stdout",
     "output_type": "stream",
     "text": [
      "Model: \"sequential_3\"\n",
      "_________________________________________________________________\n",
      " Layer (type)                Output Shape              Param #   \n",
      "=================================================================\n",
      " embedding_4 (Embedding)     (None, None, 32)          320000    \n",
      "                                                                 \n",
      " simple_rnn_1 (SimpleRNN)    (None, None, 32)          2080      \n",
      "                                                                 \n",
      "=================================================================\n",
      "Total params: 322,080\n",
      "Trainable params: 322,080\n",
      "Non-trainable params: 0\n",
      "_________________________________________________________________\n"
     ]
    }
   ],
   "source": [
    "model = Sequential()\n",
    "model.add(Embedding(10000, 32))\n",
    "model.add(SimpleRNN(32, return_sequences=True))\n",
    "model.summary()"
   ]
  },
  {
   "cell_type": "code",
   "execution_count": 27,
   "metadata": {},
   "outputs": [
    {
     "name": "stdout",
     "output_type": "stream",
     "text": [
      "Model: \"sequential_4\"\n",
      "_________________________________________________________________\n",
      " Layer (type)                Output Shape              Param #   \n",
      "=================================================================\n",
      " embedding_5 (Embedding)     (None, None, 32)          320000    \n",
      "                                                                 \n",
      " simple_rnn_2 (SimpleRNN)    (None, None, 32)          2080      \n",
      "                                                                 \n",
      " simple_rnn_3 (SimpleRNN)    (None, None, 32)          2080      \n",
      "                                                                 \n",
      " simple_rnn_4 (SimpleRNN)    (None, None, 32)          2080      \n",
      "                                                                 \n",
      " simple_rnn_5 (SimpleRNN)    (None, 32)                2080      \n",
      "                                                                 \n",
      "=================================================================\n",
      "Total params: 328,320\n",
      "Trainable params: 328,320\n",
      "Non-trainable params: 0\n",
      "_________________________________________________________________\n"
     ]
    }
   ],
   "source": [
    "model = Sequential()\n",
    "model.add(Embedding(10000, 32))\n",
    "model.add(SimpleRNN(32, return_sequences=True))\n",
    "model.add(SimpleRNN(32, return_sequences=True))\n",
    "model.add(SimpleRNN(32, return_sequences=True))\n",
    "model.add(SimpleRNN(32)) #Последний слой возвращает только последний результат\n",
    "model.summary()"
   ]
  },
  {
   "cell_type": "code",
   "execution_count": 2,
   "metadata": {},
   "outputs": [
    {
     "name": "stdout",
     "output_type": "stream",
     "text": [
      "Loading data...\n",
      "25000 train sequences\n",
      "25000 test sequences\n",
      "Pad sequences (samples x time)\n",
      "input_train shape: (25000, 500)\n",
      "input_test shape: (25000, 500)\n"
     ]
    }
   ],
   "source": [
    "from keras.datasets import imdb \n",
    "from keras.utils import pad_sequences\n",
    "max_features = 10000 \n",
    "maxlen = 500 \n",
    "batch_size = 32\n",
    "print('Loading data...')\n",
    "(input_train, y_train), (input_test, y_test) = imdb.load_data(\n",
    " num_words=max_features)\n",
    "print(len(input_train), 'train sequences')\n",
    "print(len(input_test), 'test sequences')\n",
    "print('Pad sequences (samples x time)')\n",
    "input_train = pad_sequences(input_train, maxlen=maxlen)\n",
    "input_test = pad_sequences(input_test, maxlen=maxlen)\n",
    "print('input_train shape:', input_train.shape)\n",
    "print('input_test shape:', input_test.shape)"
   ]
  },
  {
   "cell_type": "code",
   "execution_count": 31,
   "metadata": {},
   "outputs": [
    {
     "name": "stdout",
     "output_type": "stream",
     "text": [
      "Epoch 1/10\n",
      "157/157 [==============================] - 17s 100ms/step - loss: 0.6782 - acc: 0.5604 - val_loss: 0.6578 - val_acc: 0.5952\n",
      "Epoch 2/10\n",
      "157/157 [==============================] - 14s 90ms/step - loss: 0.4939 - acc: 0.7709 - val_loss: 0.4624 - val_acc: 0.7862\n",
      "Epoch 3/10\n",
      "157/157 [==============================] - 14s 90ms/step - loss: 0.3368 - acc: 0.8622 - val_loss: 0.4911 - val_acc: 0.7724\n",
      "Epoch 4/10\n",
      "157/157 [==============================] - 14s 89ms/step - loss: 0.2436 - acc: 0.9056 - val_loss: 0.4940 - val_acc: 0.7836\n",
      "Epoch 5/10\n",
      "157/157 [==============================] - 13s 85ms/step - loss: 0.1724 - acc: 0.9367 - val_loss: 0.4517 - val_acc: 0.8248\n",
      "Epoch 6/10\n",
      "157/157 [==============================] - 14s 92ms/step - loss: 0.1027 - acc: 0.9669 - val_loss: 0.6182 - val_acc: 0.7616\n",
      "Epoch 7/10\n",
      "157/157 [==============================] - 14s 90ms/step - loss: 0.0652 - acc: 0.9779 - val_loss: 0.5692 - val_acc: 0.8196\n",
      "Epoch 8/10\n",
      "157/157 [==============================] - 14s 88ms/step - loss: 0.0375 - acc: 0.9890 - val_loss: 0.5899 - val_acc: 0.8304\n",
      "Epoch 9/10\n",
      "157/157 [==============================] - 14s 86ms/step - loss: 0.0234 - acc: 0.9941 - val_loss: 0.6890 - val_acc: 0.8112\n",
      "Epoch 10/10\n",
      "157/157 [==============================] - 14s 88ms/step - loss: 0.0148 - acc: 0.9958 - val_loss: 0.7788 - val_acc: 0.8072\n"
     ]
    }
   ],
   "source": [
    "from keras.models import Sequential\n",
    "from keras.layers import Embedding, SimpleRNN, Dense\n",
    "model = Sequential()\n",
    "model.add(Embedding(max_features, 32))\n",
    "model.add(SimpleRNN(32))\n",
    "model.add(Dense(1, activation='sigmoid'))\n",
    "model.compile(optimizer='rmsprop', loss='binary_crossentropy', metrics=['acc'])\n",
    "history = model.fit(input_train, y_train,\n",
    " epochs=10,\n",
    " batch_size=128,\n",
    " validation_split=0.2)"
   ]
  },
  {
   "cell_type": "code",
   "execution_count": 32,
   "metadata": {},
   "outputs": [
    {
     "data": {
      "image/png": "[encoded data removed]",
      "text/plain": [
       "<Figure size 640x480 with 1 Axes>"
      ]
     },
     "metadata": {},
     "output_type": "display_data"
    },
    {
     "data": {
      "image/png": "[encoded data removed]",
      "text/plain": [
       "<Figure size 640x480 with 1 Axes>"
      ]
     },
     "metadata": {},
     "output_type": "display_data"
    }
   ],
   "source": [
    "import matplotlib.pyplot as plt\n",
    "acc = history.history['acc']\n",
    "val_acc = history.history['val_acc']\n",
    "loss = history.history['loss']\n",
    "val_loss = history.history['val_loss']\n",
    "epochs = range(1, len(acc) + 1)\n",
    "plt.plot(epochs, acc, 'bo', label='Training acc')\n",
    "plt.plot(epochs, val_acc, 'b', label='Validation acc')\n",
    "plt.title('Training and validation accuracy')\n",
    "plt.legend()\n",
    "plt.figure()\n",
    "plt.plot(epochs, loss, 'bo', label='Training loss')\n",
    "plt.plot(epochs, val_loss, 'b', label='Validation loss')\n",
    "plt.title('Training and validation loss')\n",
    "plt.legend()\n",
    "plt.show()"
   ]
  },
  {
   "cell_type": "code",
   "execution_count": 33,
   "metadata": {},
   "outputs": [
    {
     "name": "stdout",
     "output_type": "stream",
     "text": [
      "Epoch 1/10\n",
      "157/157 [==============================] - 39s 231ms/step - loss: 0.6106 - acc: 0.6564 - val_loss: 0.5127 - val_acc: 0.7498\n",
      "Epoch 2/10\n",
      "157/157 [==============================] - 36s 229ms/step - loss: 0.3719 - acc: 0.8431 - val_loss: 0.3294 - val_acc: 0.8660\n",
      "Epoch 3/10\n",
      "157/157 [==============================] - 37s 234ms/step - loss: 0.2763 - acc: 0.8908 - val_loss: 0.4784 - val_acc: 0.8046\n",
      "Epoch 4/10\n",
      "157/157 [==============================] - 35s 224ms/step - loss: 0.2383 - acc: 0.9099 - val_loss: 0.3292 - val_acc: 0.8700\n",
      "Epoch 5/10\n",
      "157/157 [==============================] - 36s 229ms/step - loss: 0.2086 - acc: 0.9215 - val_loss: 0.3155 - val_acc: 0.8618\n",
      "Epoch 6/10\n",
      "157/157 [==============================] - 34s 214ms/step - loss: 0.1854 - acc: 0.9334 - val_loss: 0.3305 - val_acc: 0.8818\n",
      "Epoch 7/10\n",
      "157/157 [==============================] - 35s 226ms/step - loss: 0.1698 - acc: 0.9399 - val_loss: 0.3113 - val_acc: 0.8756\n",
      "Epoch 8/10\n",
      "157/157 [==============================] - 36s 227ms/step - loss: 0.1513 - acc: 0.9474 - val_loss: 0.3320 - val_acc: 0.8844\n",
      "Epoch 9/10\n",
      "157/157 [==============================] - 33s 212ms/step - loss: 0.1398 - acc: 0.9508 - val_loss: 0.3715 - val_acc: 0.8730\n",
      "Epoch 10/10\n",
      "157/157 [==============================] - 34s 216ms/step - loss: 0.1329 - acc: 0.9538 - val_loss: 0.3529 - val_acc: 0.8500\n"
     ]
    }
   ],
   "source": [
    "from keras.layers import LSTM\n",
    "model = Sequential()\n",
    "model.add(Embedding(max_features, 32))\n",
    "model.add(LSTM(32))\n",
    "model.add(Dense(1, activation='sigmoid'))\n",
    "model.compile(optimizer='rmsprop',\n",
    " loss='binary_crossentropy',\n",
    " metrics=['acc'])\n",
    "history = model.fit(input_train, y_train,\n",
    " epochs=10,\n",
    " batch_size=128,\n",
    " validation_split=0.2)"
   ]
  }
 ],
 "metadata": {
  "kernelspec": {
   "display_name": ".venv",
   "language": "python",
   "name": "python3"
  },
  "language_info": {
   "codemirror_mode": {
    "name": "ipython",
    "version": 3
   },
   "file_extension": ".py",
   "mimetype": "text/x-python",
   "name": "python",
   "nbconvert_exporter": "python",
   "pygments_lexer": "ipython3",
   "version": "3.10.9"
  },
  "orig_nbformat": 4
 },
 "nbformat": 4,
 "nbformat_minor": 2
}
