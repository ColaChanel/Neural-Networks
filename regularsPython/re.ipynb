{
 "cells": [
  {
   "attachments": {},
   "cell_type": "markdown",
   "metadata": {},
   "source": [
    "File for learning regular expressions in python"
   ]
  },
  {
   "attachments": {},
   "cell_type": "markdown",
   "metadata": {},
   "source": [
    "https://habr.com/ru/articles/349860/"
   ]
  },
  {
   "attachments": {},
   "cell_type": "markdown",
   "metadata": {},
   "source": [
    "Регулярное выражение — это строка, задающая шаблон поиска подстрок в тексте."
   ]
  },
  {
   "attachments": {},
   "cell_type": "markdown",
   "metadata": {},
   "source": [
    "<table>\n",
    "<thead>\n",
    "<tr>\n",
    "<th>Регулярка</th>\n",
    "<th>Её смысл</th>\n",
    "</tr>\n",
    "</thead>\n",
    "<tbody>\n",
    "<tr>\n",
    "<td><code>simple text</code></td>\n",
    "<td>В точности текст «simple text»</td>\n",
    "</tr>\n",
    "<tr>\n",
    "<td><code>\\d{5}</code></td>\n",
    "<td>Последовательности из 5 цифр<br>\n",
    "<code>\\d</code> означает любую цифру<br>\n",
    "<code>{5}</code> — ровно 5 раз</td>\n",
    "</tr>\n",
    "<tr>\n",
    "<td><code>\\d\\d/\\d\\d/\\d{4}</code></td>\n",
    "<td>Даты в формате ДД/ММ/ГГГГ<br>\n",
    "(и прочие куски, на них похожие, например, 98/76/5432)</td>\n",
    "</tr>\n",
    "<tr>\n",
    "<td><code>\\b\\w{3}\\b</code></td>\n",
    "<td>Слова в точности из трёх букв<br>\n",
    "<code>\\b</code> означает границу слова<br>\n",
    "(с одной стороны буква, а с другой — нет)<br>\n",
    "<code>\\w</code> — любая буква,<br>\n",
    "<code>{3}</code> — ровно три раза</td>\n",
    "</tr>\n",
    "<tr>\n",
    "<td><code>[-+]?\\d+</code></td>\n",
    "<td>Целое число, например, 7, +17, -42, 0013 (возможны ведущие нули)<br>\n",
    "<code>[-+]?</code> — либо -, либо +, либо пусто<br>\n",
    "<code>\\d+</code> — последовательность из 1 или более цифр</td>\n",
    "</tr>\n",
    "<tr>\n",
    "<td><code>[-+]?(?:\\d+(?:\\.\\d*)?|\\.\\d+)(?:[eE][-+]?\\d+)?</code></td>\n",
    "<td>Действительное число, возможно в экспоненциальной записи<br>\n",
    "Например, 0.2, +5.45, -.4, 6e23, -3.17E-14.<br>\n",
    "См. ниже картинку.</td>\n",
    "</tr>\n",
    "</tbody>\n",
    "</table>"
   ]
  },
  {
   "attachments": {},
   "cell_type": "markdown",
   "metadata": {},
   "source": [
    "### Шаблоны, соответствующие одному символу"
   ]
  },
  {
   "attachments": {},
   "cell_type": "markdown",
   "metadata": {},
   "source": [
    "<table>\n",
    "<thead>\n",
    "<tr>\n",
    "<th>Шаблон</th>\n",
    "<th>Описание</th>\n",
    "<th>Пример</th>\n",
    "<th>Применяем к тексту</th>\n",
    "</tr>\n",
    "</thead>\n",
    "<tbody>\n",
    "<tr>\n",
    "<td><code>.</code></td>\n",
    "<td>Один любой символ, кроме новой строки <code>\\n</code>.</td>\n",
    "<td><code>м.л.ко</code></td>\n",
    "<td><u>молоко</u>, <u>малако</u>, <br>\n",
    "И<u>м0л0ко</u>Ихлеб</td>\n",
    "</tr>\n",
    "<tr>\n",
    "<td><code>\\d</code></td>\n",
    "<td>Любая цифра</td>\n",
    "<td><code>СУ\\d\\d</code></td>\n",
    "<td><u>СУ35</u>, <u>СУ11</u>1, АЛ<u>СУ14</u></td>\n",
    "</tr>\n",
    "<tr>\n",
    "<td><code>\\D</code></td>\n",
    "<td>Любой символ, кроме цифры</td>\n",
    "<td><code>926\\D123</code></td>\n",
    "<td><u>926)123</u>, 1<u>926-123</u>4</td>\n",
    "</tr>\n",
    "<tr>\n",
    "<td><code>\\s</code></td>\n",
    "<td>Любой пробельный символ (пробел, табуляция, конец строки и т.п.)</td>\n",
    "<td><code>бор\\sода</code></td>\n",
    "<td><u>бор ода</u>, <u>бор<br>\n",
    "ода</u>, борода</td>\n",
    "</tr>\n",
    "<tr>\n",
    "<td><code>\\S</code></td>\n",
    "<td>Любой непробельный символ</td>\n",
    "<td><code>\\S123</code></td>\n",
    "<td><u>X123</u>, <u>я123</u>, <u>!123</u>456, 1 + 123456</td>\n",
    "</tr>\n",
    "<tr>\n",
    "<td><code>\\w</code></td>\n",
    "<td>Любая буква (то, что может быть частью слова), а также цифры и <code>_</code></td>\n",
    "<td><code>\\w\\w\\w</code></td>\n",
    "<td><u>Год</u>, <u>f_3</u>, <u>qwe</u>rt</td>\n",
    "</tr>\n",
    "<tr>\n",
    "<td><code>\\W</code></td>\n",
    "<td>Любая не-буква, не-цифра и не подчёркивание</td>\n",
    "<td><code>сом\\W</code></td>\n",
    "<td><u>сом!</u>, <u>сом?</u> </td>\n",
    "</tr>\n",
    "<tr>\n",
    "<td><code>[..]</code></td>\n",
    "<td>Один из символов в скобках,<br>\n",
    "а также любой символ из диапазона <code>a-b</code></td>\n",
    "<td><code>[0-9][0-9A-Fa-f]</code></td>\n",
    "<td><u>12</u>, <u>1F</u>, <u>4B</u></td>\n",
    "</tr>\n",
    "<tr>\n",
    "<td><code>[^..]</code></td>\n",
    "<td>Любой символ, кроме перечисленных</td>\n",
    "<td><code>&lt;[^&gt;]&gt;</code></td>\n",
    "<td><u>&lt;1&gt;</u>, <u>&lt;a&gt;</u>, &lt;&gt;&gt;</td>\n",
    "</tr>\n",
    "<tr>\n",
    "<td><code>\\d≈[0-9], </code><br>\n",
    "<code>\\D≈[^0-9], </code><br>\n",
    "<code>\\w≈[0-9a-zA-Z </code><br>\n",
    "<code>а-яА-ЯёЁ], </code><br>\n",
    "<code>\\s≈[ \\f\\n\\r\\t\\v] </code></td>\n",
    "<td>Буква “ё” не включается в общий диапазон букв!<br>\n",
    "Вообще говоря, в <code>\\d</code> включается всё, что в юникоде помечено как «цифра», а в <code>\\w</code> — как буква. Ещё много всего!</td>\n",
    "<td></td>\n",
    "<td></td>\n",
    "</tr>\n",
    "<tr>\n",
    "<td><code>[abc-], [-1]</code></td>\n",
    "<td>если нужен минус, его нужно указать последним или первым</td>\n",
    "<td></td>\n",
    "<td></td>\n",
    "</tr>\n",
    "<tr>\n",
    "<td><code>[*[(+\\\\\\]\\t]</code></td>\n",
    "<td>внутри скобок нужно экранировать только <code>]</code> и <code>\\</code></td>\n",
    "<td></td>\n",
    "<td></td>\n",
    "</tr>\n",
    "<tr>\n",
    "<td><code>\\b</code></td>\n",
    "<td>Начало или конец слова (слева пусто или не-буква, справа буква и наоборот).<br>\n",
    "В отличие от предыдущих соответствует позиции, а не символу</td>\n",
    "<td><code>\\bвал</code></td>\n",
    "<td><u>вал</u>, перевал, Перевалка</td>\n",
    "</tr>\n",
    "<tr>\n",
    "<td><code>\\B</code></td>\n",
    "<td>Не граница слова: либо и слева, и справа буквы,<br>\n",
    "либо и слева, и справа НЕ буквы</td>\n",
    "<td><code>\\Bвал</code></td>\n",
    "<td>пере<u>вал</u>, вал, Пере<u>вал</u>ка</td>\n",
    "</tr>\n",
    "<tr>\n",
    "<td></td>\n",
    "<td></td>\n",
    "<td><code>\\Bвал\\B</code></td>\n",
    "<td>перевал, вал, Пере<u>вал</u>ка</td>\n",
    "</tr>\n",
    "</tbody>\n",
    "</table>"
   ]
  },
  {
   "attachments": {},
   "cell_type": "markdown",
   "metadata": {},
   "source": [
    "### Квантификаторы (указание количества повторений)"
   ]
  },
  {
   "attachments": {},
   "cell_type": "markdown",
   "metadata": {},
   "source": [
    "<table>\n",
    "<thead>\n",
    "<tr>\n",
    "<th>Шаблон</th>\n",
    "<th>Описание</th>\n",
    "<th>Пример</th>\n",
    "<th>Применяем к тексту</th>\n",
    "</tr>\n",
    "</thead>\n",
    "<tbody>\n",
    "<tr>\n",
    "<td><code>{n}</code></td>\n",
    "<td>Ровно n повторений <code></code>.</td>\n",
    "<td><code>\\d{4}</code></td>\n",
    "<td>1, 12, 123<u>1234</u>,<br>\n",
    "12345</td>\n",
    "</tr>\n",
    "<tr>\n",
    "<td><code>{m,n}</code></td>\n",
    "<td>От m до n повторений включительно</td>\n",
    "<td><code>\\d{2, 4}</code></td>\n",
    "<td>1, <u>12</u>, <u>123</u>, <u>1234</u>,\n",
    "12345</td>\n",
    "</tr>\n",
    "<tr>\n",
    "<td><code>{m,}</code></td>\n",
    "<td>Не менее m повторений</td>\n",
    "<td><code>\\d{3,}</code></td>\n",
    "<td>1, 12, <u>123</u>, <u>1234</u>, \n",
    "<u>12345</u></td>\n",
    "</tr>\n",
    "<tr>\n",
    "<td><code>{,n}</code></td>\n",
    "<td>Не более n повторений</td>\n",
    "<td><code>\\d{,2}</code></td>\n",
    "<td><u>1</u>, <u>12</u>, <u>12</u>3</td>\n",
    "</tr>\n",
    "<tr>\n",
    "<td><code>?</code></td>\n",
    "<td>Ноль или одно вхождение, синоним {0,1}</td>\n",
    "<td><code>валы?</code></td>\n",
    "<td><u>вал</u>, <u>валы</u>, <u>вал</u>ов</td>\n",
    "</tr>\n",
    "<tr>\n",
    "<td><code>*</code></td>\n",
    "<td>Ноль или более, синоним {0,}</td>\n",
    "<td><code>СУ\\d*</code></td>\n",
    "<td><u>СУ</u>, <u>СУ1</u>, <u>СУ12</u>, ...</td>\n",
    "</tr>\n",
    "<tr>\n",
    "<td><code>+</code></td>\n",
    "<td>Одно или более, синоним {1,}</td>\n",
    "<td><code>a\\)+</code></td>\n",
    "<td><u><font color=\"#007d5b\">a)</font></u>, <u><font color=\"#007d5b\">a))</font></u>, <u><font color=\"#007d5b\">a)))</font></u>, b<u><font color=\"#007d5b\">a)</font></u>])</td>\n",
    "</tr>\n",
    "<tr>\n",
    "<td><code>*?<br>\n",
    "+?<br>\n",
    "??<br>\n",
    "{m,n}?<br>\n",
    "{,n}?<br>\n",
    "{m,}?</code></td>\n",
    "<td>По умолчанию квантификаторы жадные —\n",
    "захватывают максимально возможное число символов.\n",
    "Добавление ? делает их ленивыми,\n",
    "они захватывают минимально возможное число символов</td>\n",
    "<td><code>\\(.*\\) <br>\n",
    "\\(.*?\\)</code></td>\n",
    "<td><u>(a + b) * (c + d) * (e + f)</u><br> <u>(a + b)</u>*(c + d) * (e + f)</td>\n",
    "</tr>\n",
    "</tbody>\n",
    "</table>"
   ]
  },
  {
   "attachments": {},
   "cell_type": "markdown",
   "metadata": {},
   "source": [
    "## Пример использования"
   ]
  },
  {
   "attachments": {},
   "cell_type": "markdown",
   "metadata": {},
   "source": [
    "### Функции для работы с регулярками"
   ]
  },
  {
   "attachments": {},
   "cell_type": "markdown",
   "metadata": {},
   "source": [
    "<table>\n",
    "<thead>\n",
    "<tr>\n",
    "<th>Функция</th>\n",
    "<th>Её смысл</th>\n",
    "</tr>\n",
    "</thead>\n",
    "<tbody>\n",
    "<tr>\n",
    "<td><code>re.search(pattern, string)</code></td>\n",
    "<td>Найти в строке string первую строчку, подходящую под шаблон pattern;</td>\n",
    "</tr>\n",
    "<tr>\n",
    "<td><code>re.fullmatch(pattern, string)</code></td>\n",
    "<td>Проверить, подходит ли строка string под шаблон pattern;</td>\n",
    "</tr>\n",
    "<tr>\n",
    "<td><code>re.split(pattern, string, maxsplit=0)</code></td>\n",
    "<td>Аналог str.split(), только разделение происходит по подстрокам, подходящим под шаблон pattern;</td>\n",
    "</tr>\n",
    "<tr>\n",
    "<td><code>re.findall(pattern, string)</code></td>\n",
    "<td>Найти в строке string все непересекающиеся шаблоны pattern;</td>\n",
    "</tr>\n",
    "<tr>\n",
    "<td><code>re.finditer(pattern, string)</code></td>\n",
    "<td>Итератор всем непересекающимся шаблонам pattern в строке string (выдаются match-объекты);</td>\n",
    "</tr>\n",
    "<tr>\n",
    "<td><code>re.sub(pattern, repl, string, count=0)</code></td>\n",
    "<td>Заменить в строке string все непересекающиеся шаблоны pattern на repl;</td>\n",
    "</tr>\n",
    "<tr>"
   ]
  },
  {
   "cell_type": "code",
   "execution_count": 1,
   "metadata": {},
   "outputs": [
    {
     "name": "stdout",
     "output_type": "stream",
     "text": [
      "23-12\n",
      "Not found\n",
      "YES\n",
      "NO\n",
      "['Где', 'скажите', 'мне', 'мои', 'очки', '']\n",
      "['19.01.2018', '01.09.2017']\n",
      "Дата 19.01.2018 начинается с позиции 20\n",
      "Дата 01.09.2017 начинается с позиции 45\n",
      "Эта строка написана DD.MM.YYYY, а могла бы и DD.MM.YYYY\n"
     ]
    }
   ],
   "source": [
    "import re \n",
    "\n",
    "match = re.search(r'\\d\\d\\D\\d\\d', r'Телефон 123-12-12') \n",
    "print(match[0] if match else 'Not found') \n",
    "# -> 23-12 \n",
    "match = re.search(r'\\d\\d\\D\\d\\d', r'Телефон 1231212') \n",
    "print(match[0] if match else 'Not found') \n",
    "# -> Not found \n",
    "\n",
    "match = re.fullmatch(r'\\d\\d\\D\\d\\d', r'12-12') \n",
    "print('YES' if match else 'NO') \n",
    "# -> YES \n",
    "match = re.fullmatch(r'\\d\\d\\D\\d\\d', r'Т. 12-12') \n",
    "print('YES' if match else 'NO') \n",
    "# -> NO \n",
    "\n",
    "print(re.split(r'\\W+', 'Где, скажите мне, мои очки??!')) \n",
    "# -> ['Где', 'скажите', 'мне', 'мои', 'очки', ''] \n",
    "\n",
    "print(re.findall(r'\\d\\d\\.\\d\\d\\.\\d{4}', \n",
    "                 r'Эта строка написана 19.01.2018, а могла бы и 01.09.2017')) \n",
    "# -> ['19.01.2018', '01.09.2017'] \n",
    "\n",
    "for m in re.finditer(r'\\d\\d\\.\\d\\d\\.\\d{4}', r'Эта строка написана 19.01.2018, а могла бы и 01.09.2017'): \n",
    "    print('Дата', m[0], 'начинается с позиции', m.start()) \n",
    "# -> Дата 19.01.2018 начинается с позиции 20 \n",
    "# -> Дата 01.09.2017 начинается с позиции 45 \n",
    "\n",
    "print(re.sub(r'\\d\\d\\.\\d\\d\\.\\d{4}', \n",
    "             r'DD.MM.YYYY', \n",
    "             r'Эта строка написана 19.01.2018, а могла бы и 01.09.2017')) \n",
    "# -> Эта строка написана DD.MM.YYYY, а могла бы и DD.MM.YYYY "
   ]
  },
  {
   "attachments": {},
   "cell_type": "markdown",
   "metadata": {},
   "source": [
    "## Использование дополнительных флагов в питоне"
   ]
  },
  {
   "attachments": {},
   "cell_type": "markdown",
   "metadata": {},
   "source": [
    "<table>\n",
    "<thead>\n",
    "<tr>\n",
    "<th>Константа</th>\n",
    "<th>Её смысл</th>\n",
    "</tr>\n",
    "</thead>\n",
    "<tbody>\n",
    "<tr>\n",
    "<td><code>re.ASCII</code></td>\n",
    "<td>По умолчанию \\w, \\W, \\b, \\B, \\d, \\D, \\s, \\S соответствуют\n",
    "все юникодные символы с соответствующим качеством.\n",
    "Например, \\d соответствуют не только арабские цифры,\n",
    "но и вот такие: ٠١٢٣٤٥٦٧٨٩.\n",
    "re.ASCII ускоряет работу,\n",
    "если все соответствия лежат внутри ASCII.</td>\n",
    "</tr>\n",
    "<tr>\n",
    "<td><code>re.IGNORECASE</code></td>\n",
    "<td>Не различать заглавные и маленькие буквы.\n",
    "Работает медленнее, но иногда удобно</td>\n",
    "</tr>\n",
    "<tr>\n",
    "<td><code>re.MULTILINE</code></td>\n",
    "<td>Специальные символы ^ и $ соответствуют\n",
    "началу и концу каждой строки</td>\n",
    "</tr>\n",
    "<tr>\n",
    "<td><code>re.DOTALL</code></td>\n",
    "<td>По умолчанию символ \\n конца строки не подходит под точку.\n",
    "С этим флагом точка — вообще любой символ</td>\n",
    "</tr>"
   ]
  },
  {
   "cell_type": "code",
   "execution_count": 7,
   "metadata": {},
   "outputs": [
    {
     "name": "stdout",
     "output_type": "stream",
     "text": [
      "['12', '٦٧']\n",
      "['Hello', 'мир']\n",
      "['12']\n",
      "['Hello']\n",
      "['ааааа', 'яяяя']\n",
      "['ОООО', 'ааааа', 'ЫЫЫЫ', 'яяяя']\n",
      "[]\n",
      "[]\n",
      "['вишней1', 'вишней2']\n",
      "['вишней2']\n"
     ]
    }
   ],
   "source": [
    "import re \n",
    "print(re.findall(r'\\d+', '12 + ٦٧')) \n",
    "# -> ['12', '٦٧'] \n",
    "print(re.findall(r'\\w+', 'Hello, мир!')) \n",
    "# -> ['Hello', 'мир'] \n",
    "print(re.findall(r'\\d+', '12 + ٦٧', flags=re.ASCII)) \n",
    "# -> ['12'] \n",
    "print(re.findall(r'\\w+', 'Hello, мир!', flags=re.ASCII)) \n",
    "# -> ['Hello'] \n",
    "print(re.findall(r'[уеыаоэяию]+', 'ОООО ааааа ррррр ЫЫЫЫ яяяя')) \n",
    "# -> ['ааааа', 'яяяя'] \n",
    "print(re.findall(r'[уеыаоэяию]+', 'ОООО ааааа ррррр ЫЫЫЫ яяяя', flags=re.IGNORECASE)) \n",
    "# -> ['ОООО', 'ааааа', 'ЫЫЫЫ', 'яяяя'] \n",
    "\n",
    "text = r\"\"\" \n",
    "Торт \n",
    "с вишней1 \n",
    "вишней2 \n",
    "\"\"\" \n",
    "print(re.findall(r'Торт.с', text)) \n",
    "# -> [] \n",
    "print(re.findall(r'Торт.с', text, flags=re.DOTALL)) \n",
    "# -> ['Торт\\nс'] \n",
    "print(re.findall(r'виш\\w+', text, flags=re.MULTILINE)) \n",
    "# -> ['вишней1', 'вишней2'] \n",
    "print(re.findall(r'^виш\\w+', text, flags=re.MULTILINE)) \n",
    "# -> ['вишней2'] "
   ]
  },
  {
   "attachments": {},
   "cell_type": "markdown",
   "metadata": {},
   "source": [
    "# Tasks"
   ]
  },
  {
   "attachments": {},
   "cell_type": "markdown",
   "metadata": {},
   "source": [
    "### Регистрационные знаки транспортных средств"
   ]
  },
  {
   "attachments": {},
   "cell_type": "markdown",
   "metadata": {},
   "source": [
    "В России применяются регистрационные знаки нескольких видов.\n",
    "Общего в них то, что они состоят из цифр и букв. Причём используются только 12 букв кириллицы, имеющие графические аналоги в латинском алфавите — А, В, Е, К, М, Н, О, Р, С, Т, У и Х.\n",
    "\n",
    "\n",
    "У частных легковых автомобилях номера — это буква, три цифры, две буквы, затем две или три цифры с кодом региона. У такси — две буквы, три цифры, затем две или три цифры с кодом региона. Есть также и другие виды, но в этой задаче они не понадобятся.\n",
    "\n",
    "\n",
    "Вам потребуется определить, является ли последовательность букв корректным номером указанных двух типов, и если является, то каким.\n",
    "\n",
    "\n",
    "На вход даются строки, которые претендуют на то, чтобы быть номером. Определите тип номера. Буквы в номерах — заглавные русские. Маленькие и английские для простоты можно игнорировать."
   ]
  },
  {
   "cell_type": "code",
   "execution_count": 14,
   "metadata": {},
   "outputs": [
    {
     "name": "stdout",
     "output_type": "stream",
     "text": [
      "Private: ['С227НА777', 'С227НА777']\n",
      "Taxi: ['КУ22777']\n"
     ]
    }
   ],
   "source": [
    "import re\n",
    "numers = \"С227НА777, КУ22777, Т22В7477, М227К19У9, С227НА777\"\n",
    "print('Private:', re.findall(r'\\b[АВЕКМНОРСТУХ]\\d{3}[АВЕКМНОРСТУХ]{2}\\d{2,3}\\b', numers)) \n",
    "print('Taxi:', re.findall(r'\\b[АВЕКМНОРСТУХ]{2}\\d{5,6}\\b', numers))  \n",
    "    "
   ]
  },
  {
   "attachments": {},
   "cell_type": "markdown",
   "metadata": {},
   "source": [
    "###  Количество слов"
   ]
  },
  {
   "attachments": {},
   "cell_type": "markdown",
   "metadata": {},
   "source": [
    "Слово — это последовательность из букв (русских или английских), внутри которой могут быть дефисы.\n",
    "На вход даётся текст, посчитайте, сколько в нём слов.\n",
    "PS. Задача решается в одну строчку. Никакие хитрые техники, не упомянутые выше, не требуются."
   ]
  },
  {
   "cell_type": "code",
   "execution_count": 37,
   "metadata": {},
   "outputs": [
    {
     "name": "stdout",
     "output_type": "stream",
     "text": [
      "['Он', 'серо', 'буро', 'малиновая', 'редиска', 'А', 'не', 'кот', 'www', 'kot', 'ru']\n",
      "11\n"
     ]
    }
   ],
   "source": [
    "import re\n",
    "row = r\"\"\"Он --- серо-буро-малиновая редиска!! \n",
    ">>>:-> \n",
    "А не кот. \n",
    "www.kot.ru\"\"\"\n",
    "print(re.split(r'\\W+', row)) \n",
    "print(len(re.split(r'\\W+', row))) "
   ]
  },
  {
   "cell_type": "code",
   "execution_count": null,
   "metadata": {},
   "outputs": [],
   "source": []
  }
 ],
 "metadata": {
  "kernelspec": {
   "display_name": ".venv",
   "language": "python",
   "name": "python3"
  },
  "language_info": {
   "codemirror_mode": {
    "name": "ipython",
    "version": 3
   },
   "file_extension": ".py",
   "mimetype": "text/x-python",
   "name": "python",
   "nbconvert_exporter": "python",
   "pygments_lexer": "ipython3",
   "version": "3.10.9"
  },
  "orig_nbformat": 4
 },
 "nbformat": 4,
 "nbformat_minor": 2
}
