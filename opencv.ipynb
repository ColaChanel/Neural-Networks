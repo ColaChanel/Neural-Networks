{
 "cells": [
  {
   "cell_type": "code",
   "execution_count": 2,
   "metadata": {},
   "outputs": [
    {
     "name": "stdout",
     "output_type": "stream",
     "text": [
      "4.7.0\n"
     ]
    }
   ],
   "source": [
    "import cv2\n",
    "print(cv2.__version__)"
   ]
  },
  {
   "attachments": {},
   "cell_type": "markdown",
   "metadata": {},
   "source": [
    "# Faces "
   ]
  },
  {
   "cell_type": "code",
   "execution_count": 3,
   "metadata": {},
   "outputs": [],
   "source": [
    "def blur_face(img):\n",
    "    (h, w) = img.shape[:2]\n",
    "    dW = int(w/3.0)\n",
    "    dH = int(h/3.0)\n",
    "    if dW % 2 == 0:\n",
    "        dW -=1\n",
    "    if dH % 2 == 0:\n",
    "        dH -= 1\n",
    "    return cv2.GaussianBlur(img, (dW, dH), 0)\n",
    "# видео с камеры\n",
    "capture = cv2.VideoCapture(0)\n",
    "# каскады берутся отсюда: https://github.com/opencv/opencv/tree/4.x/data/haarcascades\n",
    "face_cascade = cv2.CascadeClassifier('opencv\\data\\haarcascades\\haarcascade_frontalface_default.xml')\n",
    "\n",
    "while True:\n",
    "    ret, img = capture.read()\n",
    "    \n",
    "    faces = face_cascade.detectMultiScale(img, scaleFactor=2, minNeighbors=5, minSize=(20,20))\n",
    "    for (x, y, w, h) in faces:\n",
    "        # cv2.rectangle(img, (x, y), (x+w, y+h), (255, 0, 0), 2)\n",
    "        img[y:y+h, x:x+w] = blur_face(img[y:y+h, x:x+w])\n",
    "\n",
    "    cv2.imshow('From Camera', img)\n",
    "\n",
    "    k = cv2.waitKey(30) & 0xFF\n",
    "    if k== 27:\n",
    "        break\n",
    "\n",
    "capture.release()\n",
    "cv2.destroyAllWindows()"
   ]
  }
 ],
 "metadata": {
  "kernelspec": {
   "display_name": ".venv",
   "language": "python",
   "name": "python3"
  },
  "language_info": {
   "codemirror_mode": {
    "name": "ipython",
    "version": 3
   },
   "file_extension": ".py",
   "mimetype": "text/x-python",
   "name": "python",
   "nbconvert_exporter": "python",
   "pygments_lexer": "ipython3",
   "version": "3.10.9"
  },
  "orig_nbformat": 4
 },
 "nbformat": 4,
 "nbformat_minor": 2
}
